{
 "cells": [
  {
   "cell_type": "code",
   "execution_count": null,
   "metadata": {
    "collapsed": true
   },
   "outputs": [],
   "source": [
    "from AnalysisModules.ExperimentHierarchy import ExperimentData"
   ]
  },
  {
   "cell_type": "code",
   "execution_count": null,
   "outputs": [],
   "source": [
    "# Parameters\n",
    "__directory=\"D:\\\\AM001\"\n",
    "# __mouse=\"AM001\"\n",
    "# __study=\"DEM\"\n",
    "# __study_mouse=\"NS\""
   ],
   "metadata": {
    "collapsed": false,
    "pycharm": {
     "name": "#%%\n"
    }
   }
  },
  {
   "cell_type": "code",
   "execution_count": null,
   "outputs": [],
   "source": [
    "# Instance\n",
    "# TestMouse = ExperimentData(Directory=__directory, Mouse=__mouse)\n",
    "TestMouse = ExperimentData.loadHierarchy(__directory)"
   ],
   "metadata": {
    "collapsed": false,
    "pycharm": {
     "name": "#%%\n"
    }
   }
  },
  {
   "cell_type": "code",
   "execution_count": null,
   "outputs": [],
   "source": [
    "# Test Utility Functions\n",
    "# TestMouse.checkPath(TestMouse.directory)\n",
    "# TestMouse.getDate()\n",
    "# TestMouse.getTime()\n",
    "# print(TestMouse.passMeta())\n",
    "# TestMouse.recordMod()"
   ],
   "metadata": {
    "collapsed": false,
    "pycharm": {
     "name": "#%%\n"
    }
   }
  },
  {
   "cell_type": "code",
   "execution_count": null,
   "outputs": [],
   "source": [
    "# Test Directory Instantiation\n",
    "# TestMouse.generateDirectoryHierarchy(TestMouse.directory)\n",
    "# TestMouse.generateStage(TestMouse.directory, Title=\"PreExposure\")\n",
    "# TestMouse.generateStage(TestMouse.directory, Title=\"Encoding\")\n",
    "# TestMouse.recordMod(\"Generated Directory\")\n",
    "# TestMouse.recordMod(\"Added PreExposure Behavior: Raw, Export, and DLC\")\n",
    "# TestMouse.stages.append(\"PreExposure\")\n",
    "# TestMouse.recordMod(\"Added Encoding Behavior: Raw, Export, and DLC\")\n",
    "# TestMouse.stages.append(\"Encoding\")"
   ],
   "metadata": {
    "collapsed": false,
    "pycharm": {
     "name": "#%%\n"
    }
   }
  },
  {
   "cell_type": "code",
   "execution_count": null,
   "outputs": [],
   "source": [
    "#TestMouse.saveHierarchy()"
   ],
   "metadata": {
    "collapsed": false,
    "pycharm": {
     "name": "#%%\n"
    }
   }
  }
 ],
 "metadata": {
  "kernelspec": {
   "display_name": "Python 3",
   "language": "python",
   "name": "python3"
  },
  "language_info": {
   "codemirror_mode": {
    "name": "ipython",
    "version": 2
   },
   "file_extension": ".py",
   "mimetype": "text/x-python",
   "name": "python",
   "nbconvert_exporter": "python",
   "pygments_lexer": "ipython2",
   "version": "2.7.6"
  }
 },
 "nbformat": 4,
 "nbformat_minor": 0
}